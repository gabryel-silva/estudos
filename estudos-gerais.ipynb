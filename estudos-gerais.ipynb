{
  "cells": [
    {
      "cell_type": "markdown",
      "metadata": {
        "id": "RQ28nd92MOIa"
      },
      "source": [
        "# Contúdos"
      ]
    },
    {
      "cell_type": "markdown",
      "metadata": {
        "id": "wBEmag-EMOId"
      },
      "source": [
        "## Sumário"
      ]
    },
    {
      "cell_type": "markdown",
      "metadata": {
        "id": "05sJe95hMOId"
      },
      "source": [
        "> #### **TypeScript:**\n",
        "> * Tipos básicos e avançados (string, number, boolean, arrays, tuplas, etc.);\n",
        "> * Classes, interfaces e herança;\n",
        "> * Funções, arrow functions e expressões lambda;\n",
        "> * Modularização de código com namespaces e módulos;\n",
        "> * Generics;\n",
        "> * Decorators."
      ]
    },
    {
      "cell_type": "markdown",
      "metadata": {
        "id": "N760qzlTMOId"
      },
      "source": [
        "> #### **Hibernate e JPA:**\n",
        "> * Mapeamento objeto-relacional;\n",
        "> * Entidades e relacionamentos;\n",
        "> * Consultas com JPQL (Java Persistence Query Language);\n",
        "> * Configuração de conexão com banco de dados;\n",
        "> * Operações de CRUD (criação, leitura, atualização e exclusão);\n",
        "> * Gerenciamento de transações."
      ]
    },
    {
      "cell_type": "markdown",
      "metadata": {
        "id": "0Jl9ZINMMOIe"
      },
      "source": [
        "> #### **Spring Boot:**\n",
        "> * Configuração básica do projeto;\n",
        "> * Injeção de dependência;\n",
        "> * Criação de APIs RESTful com Spring MVC;\n",
        "> * Persistência de dados com JPA e Hibernate;\n",
        "> * Tratamento de exceções;\n",
        "> * Autenticação e autorização;\n",
        "> * Testes unitários e de integração;\n",
        "> * Implantação e empacotamento do aplicativo."
      ]
    },
    {
      "cell_type": "markdown",
      "metadata": {
        "id": "105jcZzJMOIe"
      },
      "source": [
        "> #### **SPA (Single-Page Application):**\n",
        "> * Conceitos de SPA;\n",
        "> * História e evolução das SPAs;\n",
        "> * Vantagens e desvantagens das SPAs;\n",
        "> * Manipulação do histórico de navegação;\n",
        "> * Gerenciamento de estado;\n",
        "> * Ferramentas populares para o desenvolvimento de SPAs."
      ]
    },
    {
      "cell_type": "markdown",
      "metadata": {
        "id": "56eRPZA8MOIf"
      },
      "source": [
        "> #### **React:**\n",
        "> * Componentes de classe e componentes funcionais;\n",
        "> * Ciclo de vida dos componentes;\n",
        "> * Estado e props;\n",
        "> * Renderização condicional;\n",
        "> * Manipulação de eventos;\n",
        "> * Hooks (useState, useEffect, etc.);\n",
        "> * Gerenciamento de estado com Redux ou Context API."
      ]
    },
    {
      "cell_type": "markdown",
      "metadata": {
        "id": "hhDnXtB5MOIf"
      },
      "source": [
        "> #### **Vue.js:**\n",
        "> * Componentes e diretivas;\n",
        "> * Computed properties e watchers;\n",
        "> * Ciclo de vida dos componentes;\n",
        "> * Manipulação de eventos;\n",
        "> * Binding de dados;\n",
        "> * Renderização condicional;\n",
        "> * Gerenciamento de estado com Vuex;\n",
        "> * Integração com outras bibliotecas."
      ]
    },
    {
      "cell_type": "markdown",
      "metadata": {
        "id": "27aJU_r2MOIf"
      },
      "source": [
        "> #### **Angular:**\n",
        "> * Componentes e templates;\n",
        "> * Diretivas estruturais e atributivas;\n",
        "> * Serviços e injeção de dependência;\n",
        "> * Roteamento;\n",
        "> * Formulários reativos e template-driven;\n",
        "> * Observables e RxJS;\n",
        "> * Comunicação entre componentes;\n",
        "> * Integração com APIs HTTP."
      ]
    },
    {
      "cell_type": "markdown",
      "metadata": {
        "id": "sbnI_nfMMOIg"
      },
      "source": [
        "> #### **Next.js:**\n",
        "> * Configuração básica de um projeto Next.js;\n",
        "> * Estrutura de pastas e arquivos em um projeto Next.js;\n",
        "> * Criação de rotas e navegação no Next.js;\n",
        "> * Renderização no lado do servidor (Server-Side Rendering) e Static Site Generation (SSG);\n",
        "> * Gerenciamento de estado com o uso do contexto (Context API) ou bibliotecas como Redux ou Zustand;\n",
        "> * Estilização de componentes com bibliotecas como Styled JSX, CSS Modules ou Tailwind CSS;\n",
        "> * Implementação de autenticação e autorização em um aplicativo Next.js;\n",
        "> * Uso de APIs externas e requisições assíncronas com o uso de bibliotecas como Axios ou Fetch;\n",
        "> * Construção de páginas dinâmicas com o uso de parâmetros e rotas dinâmicas;\n",
        "> * Otimização de desempenho com lazy loading de componentes e imagens;\n",
        "> * Testes no Next.js, incluindo testes de unidade e testes de integração;\n",
        "> * Implantação de aplicativos Next.js em serviços de hospedagem ou plataformas de nuvem."
      ]
    },
    {
      "cell_type": "markdown",
      "metadata": {
        "id": "m4r_oLYcMOIg"
      },
      "source": [
        "## TypeScript"
      ]
    },
    {
      "cell_type": "markdown",
      "metadata": {
        "id": "gwUqgYRBMOIg"
      },
      "source": [
        "#### **Conceitos e Origem do TypeScript**"
      ]
    },
    {
      "cell_type": "markdown",
      "metadata": {
        "id": "Bfst3_8nMOIh"
      },
      "source": [
        "**TypeScript** é um superset, ou superconjunto, da linguagem JavaScript. Foi **criado em 2012**, por ***Anders Hejlsberg*** (o mesmo criador do compilador Turbo Pascal e das linguagens Delphi e C# ?). O TypeScript é mantido pela **Microsoft** e possui o próprio **Anders como o líder do projeto**."
      ]
    },
    {
      "cell_type": "markdown",
      "metadata": {
        "id": "7dRXiy5xMOIh"
      },
      "source": [
        "O TypeScript é uma linguagem baseada no JavaScript e que oferece uma série de recursos extras que o JavaScript não possuí, por exemplo a **definição de tipos de variáveis** e recursos mais avançados, como **orientação a objeto** e **padrões de projeto**."
      ]
    },
    {
      "cell_type": "markdown",
      "metadata": {
        "id": "NgdPfSTkMOIh"
      },
      "source": [
        "#### **Problemas que o TypeScript resolve**"
      ]
    },
    {
      "cell_type": "markdown",
      "metadata": {
        "id": "rXNETew8MOIh"
      },
      "source": [
        "O JavaScript é uma linguagem muito poderosa porém existem alguns poblema, quando as aplicações começam a ficarem complexas é muito provavel se deparar com **bugs decorrente ao tipos da variáveis**, para evitar esses bugs caso cometamos algum erro, o TypeScript vem solucionando estes tipos de problemas, pois com o **TypeScript é possível declarar variáveis e definir o tipo dessas variáveis**, o que torna o código mais robusto."
      ]
    },
    {
      "cell_type": "markdown",
      "metadata": {
        "id": "-pCd-QORMOIh"
      },
      "source": [
        " **Exemplo**\n",
        " *  imagine que criemos uma variável com TypeScript que possui uma string. Para definir seu tipo como string, basta informar o sinal de : (dois-pontos) e a palavra string. Daí, imagine que tentamos acessar o método toLocaleDateString() a partir dela. Esse é um método voltado para datas:"
      ]
    },
    {
      "cell_type": "code",
      "execution_count": null,
      "metadata": {
        "vscode": {
          "languageId": "javascript"
        },
        "id": "ih6FzWYKMOIh"
      },
      "outputs": [],
      "source": [
        "let minhaVariavel: string;\n",
        "\n",
        "minhaVariavel = \"Eu não sou uma Data\";\n",
        "console.log(minhaVariavel.toLocaleDateString());"
      ]
    },
    {
      "cell_type": "markdown",
      "metadata": {
        "id": "wGxMuOW3MOIi"
      },
      "source": [
        "#### **Acesso a recursos avançados**"
      ]
    },
    {
      "cell_type": "markdown",
      "metadata": {
        "id": "XmMQbGrTMOIi"
      },
      "source": [
        "A partir de **2015**, o **JavaScript** tem recebido a **adição de recursos incríveis**, como alguns conceitos da **Orientação a Objetos**. Entretanto, pode ser que ainda sintamos a **falta de alguns recursos muito úteis**, como **interfaces**, ou uma **maior quantidade de modificadores** de **acesso em propriedades e métodos**, o que nos permitiria aplicar por completo o conceito de **encapsulamento**."
      ]
    },
    {
      "cell_type": "markdown",
      "metadata": {
        "id": "P2VFY2QSMOIj"
      },
      "source": [
        "**Exemplo**"
      ]
    },
    {
      "cell_type": "code",
      "execution_count": null,
      "metadata": {
        "vscode": {
          "languageId": "javascript"
        },
        "id": "qQRUOW12MOIj"
      },
      "outputs": [],
      "source": [
        "inteface Funcionario{\n",
        "\tnome: string;\n",
        "\tsalario: number;\n",
        "}\n",
        "\n",
        "class Financeiro implements Funcionario {\n",
        "\n",
        "\tnome: string;\n",
        "\tsalario: number;\n",
        "\n",
        "\tconstructor(funcionarioNome: string, funcionarioSalario: number) {\n",
        "\n",
        "\t\tthis.nome = funcionarioNome;\n",
        "\t\tthis.salario = funcionarioSalario;\n",
        "\n",
        "\t}\n",
        "\n",
        "}"
      ]
    },
    {
      "cell_type": "markdown",
      "metadata": {
        "id": "ZNMfn45PMOIj"
      },
      "source": [
        "#### **Compilador TypeScript e retrocompatibilidade**"
      ]
    },
    {
      "cell_type": "markdown",
      "metadata": {
        "id": "viTargvfMOIj"
      },
      "source": [
        "O **TypeScript Compiler**, também conhecido como **TSC**, é responsável por **transformar nosso código TypeScript avançado em uma sintaxe JavaScript** que pode ser entendida até mesmo pelos navegadores mais antigos. Na realidade, por padrão, o **TypeScript transforma nosso código em ECMAScript 3**, que foi **lançado em 1999**.\n",
        "\n",
        "Claro que é possível mudar essa configuração. De qualquer forma, se você precisa criar sistemas que precisam funcionar em **browsers mais antigos**, o TypeScript é a solução."
      ]
    },
    {
      "cell_type": "markdown",
      "metadata": {
        "id": "-uU3A-1FMOIj"
      },
      "source": [
        "#### **Configurando projeto TypeScript**"
      ]
    },
    {
      "cell_type": "markdown",
      "metadata": {
        "id": "qcpElWoUMOIj"
      },
      "source": [
        "Conteúdo diponível em: [Como configurar um projeto de nó com o Typescript](https://www.digitalocean.com/community/tutorials/setting-up-a-node-project-with-typescript-pt#passo-2-instalando-as-dependencias)"
      ]
    },
    {
      "cell_type": "markdown",
      "metadata": {
        "id": "ATuDXD9BMOIj"
      },
      "source": [
        "##### **Primeiros passos**"
      ]
    },
    {
      "cell_type": "markdown",
      "metadata": {
        "id": "c79fk-q1MOIk"
      },
      "source": [
        "*Antes de iniciar este guia, é necessário possuir o ***Node.js*** instalado em sua máquina.*"
      ]
    },
    {
      "cell_type": "markdown",
      "metadata": {
        "id": "woWcxinRMOIk"
      },
      "source": [
        "**Passo 1 — Inicializando um projeto npm**"
      ]
    },
    {
      "cell_type": "markdown",
      "metadata": {
        "id": "hsIoO4G2MOIk"
      },
      "source": [
        "Para começar, crie uma nova pasta chamada **\"node_project\"** e vá até esse diretório."
      ]
    },
    {
      "cell_type": "code",
      "execution_count": null,
      "metadata": {
        "vscode": {
          "languageId": "shellscript"
        },
        "id": "HCkQsX8HMOIk"
      },
      "outputs": [],
      "source": [
        "mkdir node_project\n",
        "cd node_project"
      ]
    },
    {
      "cell_type": "markdown",
      "metadata": {
        "id": "cgHV8vWEMOIk"
      },
      "source": [
        "Em seguida, inicialize-o como um projeto **\"npm\"**:"
      ]
    },
    {
      "cell_type": "code",
      "execution_count": null,
      "metadata": {
        "vscode": {
          "languageId": "shellscript"
        },
        "id": "1mcqA7mfMOIk"
      },
      "outputs": [],
      "source": [
        "npm init"
      ]
    },
    {
      "cell_type": "markdown",
      "metadata": {
        "id": "BkeUxEcQMOIl"
      },
      "source": [
        "Depois de executar o **\"npm init\"**, será necessário fornecer informações sobre o seu projeto ao npm. Caso prefira deixar que o npm assuma padrões sensatos, adicione o sinalizador y para ignorar os prompts para obter informações adicionais:"
      ]
    },
    {
      "cell_type": "code",
      "execution_count": null,
      "metadata": {
        "vscode": {
          "languageId": "shellscript"
        },
        "id": "UeHr2xEoMOIl"
      },
      "outputs": [],
      "source": [
        "npm init -y"
      ]
    },
    {
      "cell_type": "markdown",
      "metadata": {
        "id": "FSJZi0XsMOIl"
      },
      "source": [
        "**Passo 2 — Instalando as dependências**"
      ]
    },
    {
      "cell_type": "markdown",
      "metadata": {
        "id": "mqo6btmvMOIl"
      },
      "source": [
        "Com um projeto básico do npm inicializado, o próximo passo é **instalar as dependências** que são necessárias para executar o TypeScript.\n",
        "\n",
        "Execute os seguintes comandos a partir do diretório do seu projeto para instalar as dependências:"
      ]
    },
    {
      "cell_type": "code",
      "execution_count": null,
      "metadata": {
        "vscode": {
          "languageId": "shellscript"
        },
        "id": "kXr3-tBqMOIl"
      },
      "outputs": [],
      "source": [
        "npm install -D typescript@3.3.3\n",
        "npm install -D tslint@5.12.1"
      ]
    },
    {
      "cell_type": "markdown",
      "metadata": {
        "id": "-1qQfSvsMOIl"
      },
      "source": [
        "Agora, é hora de instalar o framework Express:"
      ]
    },
    {
      "cell_type": "code",
      "execution_count": null,
      "metadata": {
        "vscode": {
          "languageId": "shellscript"
        },
        "id": "QmdFw-YfMOIp"
      },
      "outputs": [],
      "source": [
        "npm install -S express@4.16.4\n",
        "npm install -D @types/express@4.16.1"
      ]
    },
    {
      "cell_type": "markdown",
      "metadata": {
        "id": "wywsAEM4MOIp"
      },
      "source": [
        "O segundo comando instala os tipos do **Express** para o suporte do TypeScript. Os tipos no TypeScript são arquivos, normalmente com uma extensão .d.ts. Os arquivos são usados para fornecer informações de tipo sobre uma **API**, neste caso, o **framework Express**.\n",
        "\n",
        "*Este pacote é necessário porque o TypeScript e o Express são pacotes independentes. Sem o pacote ***@types/express***, o TypeScript não é capaz de saber sobre os tipos das classes do Express.*"
      ]
    },
    {
      "cell_type": "markdown",
      "metadata": {
        "id": "FLqCoIDhMOIq"
      },
      "source": [
        "**Passo 3 — Configurando o TypeScript**"
      ]
    },
    {
      "cell_type": "markdown",
      "metadata": {
        "id": "L5M8HeKiMOIq"
      },
      "source": [
        "Nesta seção, você irá configurar o TypeScript e configurar uma função de linting para ele. O TypeScript usa um arquivo chamado **\"tsconfig.json\"** para configurar as opções do compilador para um projeto. Crie um arquivo **\"tsconfig.json\"** na raiz do diretório do projeto e adicione o seguinte trecho de código:"
      ]
    },
    {
      "cell_type": "markdown",
      "source": [
        "\n",
        "\n",
        "```\n",
        "  {\n",
        "    \"compilerOptions\": {\n",
        "      \"module\": \"commonjs\",\n",
        "      \"esModuleInterop\": true,\n",
        "      \"target\": \"es6\",\n",
        "      \"moduleResolution\": \"node\",\n",
        "      \"sourceMap\": true,\n",
        "      \"outDir\": \"dist\"\n",
        "    },\n",
        "    \"lib\": [\"es2015\"]\n",
        "  }\n",
        "```\n",
        "\n"
      ],
      "metadata": {
        "id": "VM3Xt08_Qcvm"
      }
    },
    {
      "cell_type": "markdown",
      "source": [
        "Vamos rever algumas das chaves presentes no código **JSON** acima:\n",
        "\n",
        "**module:** define o método de geração de código do módulo. O Node usa o commonjs.<br>\n",
        "**target:** especifica o nível de linguagem de saída.<br>\n",
        "**moduleResolution:** isso ajuda o compilador a descobrir a que uma importação se refere. O valor node imita o mecanismo de resolução de módulo do Node.<br>\n",
        "**outDir:** essa é a localização onde serão gerados os arquivos .js após a transcompilação. Neste tutorial, você irá salvá-lo como dist.\n",
        "Ao invés de criar e preencher manualmente o arquivo tsconfig.json, uma alternativa é executar o comando a seguir:"
      ],
      "metadata": {
        "id": "VJe1uhivOvs0"
      }
    },
    {
      "cell_type": "markdown",
      "source": [
        "```\n",
        "  $ tsc --init\n",
        "```"
      ],
      "metadata": {
        "id": "rCUOG1nVPag9"
      }
    },
    {
      "cell_type": "markdown",
      "source": [
        "Esse comando irá gerar um arquivo **`tsconfig.json`** comentado de maneira satisfatória.\n",
        "\n",
        "Para aprender mais sobre as opções de valor chave disponíveis, a documentação oficial do TypeScript oferece explicações de todas as opções.\n",
        "\n",
        "Agora, configure o linting do TypeScript para o projeto. Em um terminal em execução na raiz do diretório do seu projeto, que este tutorial estabeleceu como sendo node_project, execute o comando a seguir para gerar um arquivo `tslint.json`:"
      ],
      "metadata": {
        "id": "pbvtqX8jRJtS"
      }
    },
    {
      "cell_type": "markdown",
      "source": [
        "\n",
        "\n",
        "```\n",
        "$ ./node_modules/.bin/tslint --init\n",
        "```\n",
        "\n"
      ],
      "metadata": {
        "id": "vCEKKyJDRnpX"
      }
    },
    {
      "cell_type": "markdown",
      "source": [
        "Abra o arquivo **`tslint.json`** recém-gerado e adicione a regra **`no-console`** adequadamente:\n",
        "\n"
      ],
      "metadata": {
        "id": "wLZSR_JlScZr"
      }
    },
    {
      "cell_type": "markdown",
      "source": [
        "```\n",
        "{\n",
        "  \"defaultSeverity\": \"error\",\n",
        "  \"extends\": [\"tslint:recommended\"],\n",
        "  \"jsRules\": {},\n",
        "  \"rules\": {\n",
        "    \"no-console\": false\n",
        "  },\n",
        "  \"rulesDirectory\": []\n",
        "}\n",
        "\n",
        "```\n",
        "\n"
      ],
      "metadata": {
        "id": "bgY4hxzUSjpj"
      }
    },
    {
      "cell_type": "markdown",
      "source": [
        "Por padrão, o linter do TypeScript impede a depuração usando declarações de console. Dessa forma, é necessário dizer explicitamente ao linter para revogar a regra no-console padrão."
      ],
      "metadata": {
        "id": "DdEmIWxETLap"
      }
    },
    {
      "cell_type": "markdown",
      "source": [
        "**Passo 4 — Atualizando o arquivo package.json**\n",
        "\n",
        "1.   Item da lista\n",
        "2.   Item da lista\n",
        "\n"
      ],
      "metadata": {
        "id": "IJEG6UvYTXt4"
      }
    },
    {
      "cell_type": "markdown",
      "source": [
        "Neste ponto do tutorial, é possível executar funções no terminal individualmente, ou criar um [script npm](https://docs.npmjs.com/cli/v9/using-npm/scripts) para executá-las.\n",
        "\n",
        "Neste passo, você criará um script **`start`** que irá compilar e transcompilar o código TypeScript e então executar o aplicativo **`.js`** resultante.\n",
        "\n",
        "Abra o arquivo **`package.json`** e atualize-o adequadamente:"
      ],
      "metadata": {
        "id": "YATg2hKoTevh"
      }
    },
    {
      "cell_type": "markdown",
      "source": [
        "\n",
        "\n",
        "```\n",
        "  {\n",
        "    \"name\": \"node-with-ts\",\n",
        "    \"version\": \"1.0.0\",\n",
        "    \"description\": \"\",\n",
        "    \"main\": \"dist/app.js\",\n",
        "    \"scripts\": {\n",
        "      \"start\": \"tsc && node dist/app.js\",\n",
        "      \"test\": \"echo \\\"Error: no test specified\\\" && exit 1\"\n",
        "    },\n",
        "    \"author\": \"\",\n",
        "    \"license\": \"ISC\",\n",
        "    \"devDependencies\": {\n",
        "      \"@types/express\": \"^4.16.1\",\n",
        "      \"tslint\": \"^5.12.1\",\n",
        "      \"typescript\": \"^3.3.3\"\n",
        "    },\n",
        "    \"dependencies\": {\n",
        "      \"express\": \"^4.16.4\"\n",
        "    }\n",
        "  }\n",
        "```\n",
        "\n"
      ],
      "metadata": {
        "id": "H9BVFx34UOIG"
      }
    },
    {
      "cell_type": "markdown",
      "source": [
        "\n",
        "No código acima, você atualizou o caminho **`main`** e adicionou o comando **`start`** à seção de scripts. Se observar o comando **`start`**, você verá que primeiro o comando **`tsc`** é executado e, em seguida, o comando **`node`**. Isso irá compilar e então executar a saída gerada com o **`node`**.\n",
        "<BR>\n",
        "<BR>\n",
        "O comando **`tsc`** diz ao TypeScript para compilar o aplicativo e colocar a saída **`.js`** gerada no diretório outDir especificado, da forma como está definido no arquivo **`tsconfig.json`**.\n"
      ],
      "metadata": {
        "id": "0I9soBDXUiXs"
      }
    },
    {
      "cell_type": "markdown",
      "source": [
        "**Passo 5 — Criando e executando um servidor básico do Express**"
      ],
      "metadata": {
        "id": "VL4hxlNdVfxT"
      }
    },
    {
      "cell_type": "markdown",
      "source": [
        "Agora que o TypeScript e seu linter estão configurados, é hora de construir um servidor do Node Express.\n",
        "\n",
        "Primeiro, crie uma pasta **`src`** na raiz do diretório do seu projeto:"
      ],
      "metadata": {
        "id": "mKX_0KWRVk7t"
      }
    },
    {
      "cell_type": "markdown",
      "source": [
        "\n",
        "```\n",
        "  $ mkdir src\n",
        "```"
      ],
      "metadata": {
        "id": "AU7AUOEeVrlL"
      }
    },
    {
      "cell_type": "markdown",
      "source": [
        "Em seguida, crie um arquivo chamado **`app.ts`** dentro dela:\n",
        "\n"
      ],
      "metadata": {
        "id": "LRCBzMWMWIoK"
      }
    },
    {
      "cell_type": "markdown",
      "source": [
        "```\n",
        "  $ touch src/app.ts\n",
        "```"
      ],
      "metadata": {
        "id": "NEFXwJ52WN9K"
      }
    }
  ],
  "metadata": {
    "kernelspec": {
      "display_name": "Python 3",
      "language": "python",
      "name": "python3"
    },
    "language_info": {
      "codemirror_mode": {
        "name": "ipython",
        "version": 3
      },
      "file_extension": ".py",
      "mimetype": "text/x-python",
      "name": "python",
      "nbconvert_exporter": "python",
      "pygments_lexer": "ipython3",
      "version": "3.11.1"
    },
    "orig_nbformat": 4,
    "colab": {
      "provenance": [],
      "toc_visible": true
    }
  },
  "nbformat": 4,
  "nbformat_minor": 0
}